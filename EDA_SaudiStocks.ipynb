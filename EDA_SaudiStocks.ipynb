{
 "cells": [
  {
   "cell_type": "code",
   "execution_count": 1,
   "id": "9bed981a",
   "metadata": {},
   "outputs": [],
   "source": [
    "import pandas as pd\n",
    "import numpy as np\n",
    "import matplotlib.pyplot as plt\n",
    "import datetime as dt\n",
    "from datetime import datetime\n",
    "%matplotlib inline"
   ]
  },
  {
   "cell_type": "code",
   "execution_count": 2,
   "id": "8deaa3ee",
   "metadata": {},
   "outputs": [],
   "source": [
    "df = pd.read_csv('SaudiStocks.csv',sep=';')"
   ]
  },
  {
   "cell_type": "code",
   "execution_count": 3,
   "id": "9f2903f9",
   "metadata": {},
   "outputs": [
    {
     "data": {
      "text/html": [
       "<div>\n",
       "<style scoped>\n",
       "    .dataframe tbody tr th:only-of-type {\n",
       "        vertical-align: middle;\n",
       "    }\n",
       "\n",
       "    .dataframe tbody tr th {\n",
       "        vertical-align: top;\n",
       "    }\n",
       "\n",
       "    .dataframe thead th {\n",
       "        text-align: right;\n",
       "    }\n",
       "</style>\n",
       "<table border=\"1\" class=\"dataframe\">\n",
       "  <thead>\n",
       "    <tr style=\"text-align: right;\">\n",
       "      <th></th>\n",
       "      <th>StockName</th>\n",
       "      <th>Date</th>\n",
       "      <th>open</th>\n",
       "      <th>high</th>\n",
       "      <th>low</th>\n",
       "      <th>close</th>\n",
       "      <th>change</th>\n",
       "      <th>changePer</th>\n",
       "      <th>Volume</th>\n",
       "      <th>TradesNum</th>\n",
       "    </tr>\n",
       "  </thead>\n",
       "  <tbody>\n",
       "    <tr>\n",
       "      <th>0</th>\n",
       "      <td>Al Rajhi Bank</td>\n",
       "      <td>31/10/21</td>\n",
       "      <td>138.6</td>\n",
       "      <td>140</td>\n",
       "      <td>138.6</td>\n",
       "      <td>139.0</td>\n",
       "      <td>0.4</td>\n",
       "      <td>0.29</td>\n",
       "      <td>1,686,212</td>\n",
       "      <td>3,640</td>\n",
       "    </tr>\n",
       "    <tr>\n",
       "      <th>1</th>\n",
       "      <td>Al Rajhi Bank</td>\n",
       "      <td>28/10/21</td>\n",
       "      <td>138.8</td>\n",
       "      <td>140</td>\n",
       "      <td>136.8</td>\n",
       "      <td>138.6</td>\n",
       "      <td>-0.2</td>\n",
       "      <td>-0.14</td>\n",
       "      <td>3,793,965</td>\n",
       "      <td>8,647</td>\n",
       "    </tr>\n",
       "    <tr>\n",
       "      <th>2</th>\n",
       "      <td>Al Rajhi Bank</td>\n",
       "      <td>27/10/21</td>\n",
       "      <td>139.2</td>\n",
       "      <td>140.2</td>\n",
       "      <td>138.6</td>\n",
       "      <td>138.8</td>\n",
       "      <td>-0.4</td>\n",
       "      <td>-0.29</td>\n",
       "      <td>2,270,175</td>\n",
       "      <td>5,750</td>\n",
       "    </tr>\n",
       "    <tr>\n",
       "      <th>3</th>\n",
       "      <td>Al Rajhi Bank</td>\n",
       "      <td>26/10/21</td>\n",
       "      <td>140</td>\n",
       "      <td>141</td>\n",
       "      <td>139.2</td>\n",
       "      <td>139.2</td>\n",
       "      <td>-0.8</td>\n",
       "      <td>-0.57</td>\n",
       "      <td>2,742,541</td>\n",
       "      <td>5,692</td>\n",
       "    </tr>\n",
       "    <tr>\n",
       "      <th>4</th>\n",
       "      <td>Al Rajhi Bank</td>\n",
       "      <td>25/10/21</td>\n",
       "      <td>137.8</td>\n",
       "      <td>140.6</td>\n",
       "      <td>135.2</td>\n",
       "      <td>140.0</td>\n",
       "      <td>2.2</td>\n",
       "      <td>1.60</td>\n",
       "      <td>2,285,307</td>\n",
       "      <td>7,643</td>\n",
       "    </tr>\n",
       "    <tr>\n",
       "      <th>5</th>\n",
       "      <td>Al Rajhi Bank</td>\n",
       "      <td>24/10/21</td>\n",
       "      <td>142</td>\n",
       "      <td>142</td>\n",
       "      <td>137.4</td>\n",
       "      <td>137.8</td>\n",
       "      <td>-4.2</td>\n",
       "      <td>-2.96</td>\n",
       "      <td>3,857,928</td>\n",
       "      <td>10,842</td>\n",
       "    </tr>\n",
       "    <tr>\n",
       "      <th>6</th>\n",
       "      <td>Al Rajhi Bank</td>\n",
       "      <td>21/10/21</td>\n",
       "      <td>142</td>\n",
       "      <td>142.8</td>\n",
       "      <td>141</td>\n",
       "      <td>142.0</td>\n",
       "      <td>0.8</td>\n",
       "      <td>0.57</td>\n",
       "      <td>2,848,752</td>\n",
       "      <td>6,466</td>\n",
       "    </tr>\n",
       "    <tr>\n",
       "      <th>7</th>\n",
       "      <td>Al Rajhi Bank</td>\n",
       "      <td>20/10/21</td>\n",
       "      <td>139.2</td>\n",
       "      <td>141.8</td>\n",
       "      <td>138.4</td>\n",
       "      <td>141.2</td>\n",
       "      <td>2.2</td>\n",
       "      <td>1.58</td>\n",
       "      <td>3,716,279</td>\n",
       "      <td>8,887</td>\n",
       "    </tr>\n",
       "    <tr>\n",
       "      <th>8</th>\n",
       "      <td>Al Rajhi Bank</td>\n",
       "      <td>19/10/21</td>\n",
       "      <td>135.2</td>\n",
       "      <td>139</td>\n",
       "      <td>135.2</td>\n",
       "      <td>139.0</td>\n",
       "      <td>4.2</td>\n",
       "      <td>3.12</td>\n",
       "      <td>3,661,023</td>\n",
       "      <td>8,302</td>\n",
       "    </tr>\n",
       "    <tr>\n",
       "      <th>9</th>\n",
       "      <td>Al Rajhi Bank</td>\n",
       "      <td>18/10/21</td>\n",
       "      <td>134.6</td>\n",
       "      <td>135.6</td>\n",
       "      <td>134.2</td>\n",
       "      <td>134.8</td>\n",
       "      <td>0.2</td>\n",
       "      <td>0.15</td>\n",
       "      <td>1,626,648</td>\n",
       "      <td>4,750</td>\n",
       "    </tr>\n",
       "  </tbody>\n",
       "</table>\n",
       "</div>"
      ],
      "text/plain": [
       "       StockName      Date   open   high    low  close  change  changePer  \\\n",
       "0  Al Rajhi Bank  31/10/21  138.6    140  138.6  139.0     0.4       0.29   \n",
       "1  Al Rajhi Bank  28/10/21  138.8    140  136.8  138.6    -0.2      -0.14   \n",
       "2  Al Rajhi Bank  27/10/21  139.2  140.2  138.6  138.8    -0.4      -0.29   \n",
       "3  Al Rajhi Bank  26/10/21    140    141  139.2  139.2    -0.8      -0.57   \n",
       "4  Al Rajhi Bank  25/10/21  137.8  140.6  135.2  140.0     2.2       1.60   \n",
       "5  Al Rajhi Bank  24/10/21    142    142  137.4  137.8    -4.2      -2.96   \n",
       "6  Al Rajhi Bank  21/10/21    142  142.8    141  142.0     0.8       0.57   \n",
       "7  Al Rajhi Bank  20/10/21  139.2  141.8  138.4  141.2     2.2       1.58   \n",
       "8  Al Rajhi Bank  19/10/21  135.2    139  135.2  139.0     4.2       3.12   \n",
       "9  Al Rajhi Bank  18/10/21  134.6  135.6  134.2  134.8     0.2       0.15   \n",
       "\n",
       "      Volume TradesNum  \n",
       "0  1,686,212     3,640  \n",
       "1  3,793,965     8,647  \n",
       "2  2,270,175     5,750  \n",
       "3  2,742,541     5,692  \n",
       "4  2,285,307     7,643  \n",
       "5  3,857,928    10,842  \n",
       "6  2,848,752     6,466  \n",
       "7  3,716,279     8,887  \n",
       "8  3,661,023     8,302  \n",
       "9  1,626,648     4,750  "
      ]
     },
     "execution_count": 3,
     "metadata": {},
     "output_type": "execute_result"
    }
   ],
   "source": [
    "df.head(10)"
   ]
  },
  {
   "cell_type": "code",
   "execution_count": 4,
   "id": "1ffda5ac",
   "metadata": {},
   "outputs": [
    {
     "data": {
      "text/html": [
       "<div>\n",
       "<style scoped>\n",
       "    .dataframe tbody tr th:only-of-type {\n",
       "        vertical-align: middle;\n",
       "    }\n",
       "\n",
       "    .dataframe tbody tr th {\n",
       "        vertical-align: top;\n",
       "    }\n",
       "\n",
       "    .dataframe thead th {\n",
       "        text-align: right;\n",
       "    }\n",
       "</style>\n",
       "<table border=\"1\" class=\"dataframe\">\n",
       "  <thead>\n",
       "    <tr style=\"text-align: right;\">\n",
       "      <th></th>\n",
       "      <th>StockName</th>\n",
       "      <th>Date</th>\n",
       "      <th>open</th>\n",
       "      <th>high</th>\n",
       "      <th>low</th>\n",
       "      <th>close</th>\n",
       "      <th>change</th>\n",
       "      <th>changePer</th>\n",
       "      <th>Volume</th>\n",
       "      <th>TradesNum</th>\n",
       "    </tr>\n",
       "  </thead>\n",
       "  <tbody>\n",
       "    <tr>\n",
       "      <th>10054</th>\n",
       "      <td>Saudi Telecom Co.</td>\n",
       "      <td>12/10/11</td>\n",
       "      <td>35.4</td>\n",
       "      <td>35.9</td>\n",
       "      <td>35.3</td>\n",
       "      <td>35.7</td>\n",
       "      <td>0.1</td>\n",
       "      <td>0.28</td>\n",
       "      <td>377,524</td>\n",
       "      <td>304</td>\n",
       "    </tr>\n",
       "    <tr>\n",
       "      <th>10055</th>\n",
       "      <td>Saudi Telecom Co.</td>\n",
       "      <td>11/10/11</td>\n",
       "      <td>35.8</td>\n",
       "      <td>35.8</td>\n",
       "      <td>35.5</td>\n",
       "      <td>35.6</td>\n",
       "      <td>-0.3</td>\n",
       "      <td>-0.84</td>\n",
       "      <td>380,301</td>\n",
       "      <td>240</td>\n",
       "    </tr>\n",
       "    <tr>\n",
       "      <th>10056</th>\n",
       "      <td>Saudi Telecom Co.</td>\n",
       "      <td>10/10/11</td>\n",
       "      <td>34.9</td>\n",
       "      <td>35.9</td>\n",
       "      <td>34.7</td>\n",
       "      <td>35.9</td>\n",
       "      <td>1.0</td>\n",
       "      <td>2.87</td>\n",
       "      <td>1,089,298</td>\n",
       "      <td>666</td>\n",
       "    </tr>\n",
       "    <tr>\n",
       "      <th>10057</th>\n",
       "      <td>Saudi Telecom Co.</td>\n",
       "      <td>09/10/11</td>\n",
       "      <td>34.5</td>\n",
       "      <td>35</td>\n",
       "      <td>34.4</td>\n",
       "      <td>34.9</td>\n",
       "      <td>0.4</td>\n",
       "      <td>1.16</td>\n",
       "      <td>908,132</td>\n",
       "      <td>461</td>\n",
       "    </tr>\n",
       "    <tr>\n",
       "      <th>10058</th>\n",
       "      <td>Saudi Telecom Co.</td>\n",
       "      <td>08/10/11</td>\n",
       "      <td>34.2</td>\n",
       "      <td>34.5</td>\n",
       "      <td>34.2</td>\n",
       "      <td>34.5</td>\n",
       "      <td>0.3</td>\n",
       "      <td>0.88</td>\n",
       "      <td>695,774</td>\n",
       "      <td>344</td>\n",
       "    </tr>\n",
       "    <tr>\n",
       "      <th>10059</th>\n",
       "      <td>Saudi Telecom Co.</td>\n",
       "      <td>05/10/11</td>\n",
       "      <td>34</td>\n",
       "      <td>34.3</td>\n",
       "      <td>34</td>\n",
       "      <td>34.2</td>\n",
       "      <td>0.2</td>\n",
       "      <td>0.59</td>\n",
       "      <td>640,694</td>\n",
       "      <td>343</td>\n",
       "    </tr>\n",
       "    <tr>\n",
       "      <th>10060</th>\n",
       "      <td>Saudi Telecom Co.</td>\n",
       "      <td>04/10/11</td>\n",
       "      <td>34</td>\n",
       "      <td>34.1</td>\n",
       "      <td>33.9</td>\n",
       "      <td>34.0</td>\n",
       "      <td>-0.1</td>\n",
       "      <td>-0.29</td>\n",
       "      <td>651,879</td>\n",
       "      <td>294</td>\n",
       "    </tr>\n",
       "    <tr>\n",
       "      <th>10061</th>\n",
       "      <td>Saudi Telecom Co.</td>\n",
       "      <td>03/10/11</td>\n",
       "      <td>34.2</td>\n",
       "      <td>34.2</td>\n",
       "      <td>34</td>\n",
       "      <td>34.1</td>\n",
       "      <td>-0.2</td>\n",
       "      <td>-0.58</td>\n",
       "      <td>1,040,680</td>\n",
       "      <td>320</td>\n",
       "    </tr>\n",
       "    <tr>\n",
       "      <th>10062</th>\n",
       "      <td>Saudi Telecom Co.</td>\n",
       "      <td>02/10/11</td>\n",
       "      <td>34.2</td>\n",
       "      <td>34.3</td>\n",
       "      <td>34</td>\n",
       "      <td>34.3</td>\n",
       "      <td>0.1</td>\n",
       "      <td>0.29</td>\n",
       "      <td>1,047,423</td>\n",
       "      <td>385</td>\n",
       "    </tr>\n",
       "    <tr>\n",
       "      <th>10063</th>\n",
       "      <td>Saudi Telecom Co.</td>\n",
       "      <td>01/10/11</td>\n",
       "      <td>34</td>\n",
       "      <td>34.2</td>\n",
       "      <td>33.9</td>\n",
       "      <td>34.2</td>\n",
       "      <td>0.2</td>\n",
       "      <td>0.59</td>\n",
       "      <td>766,610</td>\n",
       "      <td>308</td>\n",
       "    </tr>\n",
       "  </tbody>\n",
       "</table>\n",
       "</div>"
      ],
      "text/plain": [
       "               StockName      Date  open  high   low  close  change  \\\n",
       "10054  Saudi Telecom Co.  12/10/11  35.4  35.9  35.3   35.7     0.1   \n",
       "10055  Saudi Telecom Co.  11/10/11  35.8  35.8  35.5   35.6    -0.3   \n",
       "10056  Saudi Telecom Co.  10/10/11  34.9  35.9  34.7   35.9     1.0   \n",
       "10057  Saudi Telecom Co.  09/10/11  34.5    35  34.4   34.9     0.4   \n",
       "10058  Saudi Telecom Co.  08/10/11  34.2  34.5  34.2   34.5     0.3   \n",
       "10059  Saudi Telecom Co.  05/10/11    34  34.3    34   34.2     0.2   \n",
       "10060  Saudi Telecom Co.  04/10/11    34  34.1  33.9   34.0    -0.1   \n",
       "10061  Saudi Telecom Co.  03/10/11  34.2  34.2    34   34.1    -0.2   \n",
       "10062  Saudi Telecom Co.  02/10/11  34.2  34.3    34   34.3     0.1   \n",
       "10063  Saudi Telecom Co.  01/10/11    34  34.2  33.9   34.2     0.2   \n",
       "\n",
       "       changePer     Volume TradesNum  \n",
       "10054       0.28    377,524       304  \n",
       "10055      -0.84    380,301       240  \n",
       "10056       2.87  1,089,298       666  \n",
       "10057       1.16    908,132       461  \n",
       "10058       0.88    695,774       344  \n",
       "10059       0.59    640,694       343  \n",
       "10060      -0.29    651,879       294  \n",
       "10061      -0.58  1,040,680       320  \n",
       "10062       0.29  1,047,423       385  \n",
       "10063       0.59    766,610       308  "
      ]
     },
     "execution_count": 4,
     "metadata": {},
     "output_type": "execute_result"
    }
   ],
   "source": [
    "df.tail(10)"
   ]
  },
  {
   "cell_type": "code",
   "execution_count": 5,
   "id": "7480e30f",
   "metadata": {},
   "outputs": [
    {
     "data": {
      "text/plain": [
       "(10064, 10)"
      ]
     },
     "execution_count": 5,
     "metadata": {},
     "output_type": "execute_result"
    }
   ],
   "source": [
    "df.shape"
   ]
  },
  {
   "cell_type": "code",
   "execution_count": 6,
   "id": "3ec79b57",
   "metadata": {},
   "outputs": [
    {
     "data": {
      "text/plain": [
       "array(['Al Rajhi Bank', 'SABIC', 'Saudi Electricity Co.',\n",
       "       'Saudi Telecom Co.'], dtype=object)"
      ]
     },
     "execution_count": 6,
     "metadata": {},
     "output_type": "execute_result"
    }
   ],
   "source": [
    "df['StockName'].unique()"
   ]
  },
  {
   "cell_type": "code",
   "execution_count": 7,
   "id": "bcd12af1",
   "metadata": {},
   "outputs": [
    {
     "data": {
      "text/plain": [
       "Saudi Telecom Co.        2516\n",
       "Al Rajhi Bank            2516\n",
       "Saudi Electricity Co.    2516\n",
       "SABIC                    2516\n",
       "Name: StockName, dtype: int64"
      ]
     },
     "execution_count": 7,
     "metadata": {},
     "output_type": "execute_result"
    }
   ],
   "source": [
    "df['StockName'].value_counts()"
   ]
  },
  {
   "cell_type": "code",
   "execution_count": 8,
   "id": "5b898508",
   "metadata": {},
   "outputs": [
    {
     "name": "stdout",
     "output_type": "stream",
     "text": [
      "<class 'pandas.core.frame.DataFrame'>\n",
      "RangeIndex: 10064 entries, 0 to 10063\n",
      "Data columns (total 10 columns):\n",
      " #   Column     Non-Null Count  Dtype  \n",
      "---  ------     --------------  -----  \n",
      " 0   StockName  10064 non-null  object \n",
      " 1   Date       10064 non-null  object \n",
      " 2   open       10064 non-null  object \n",
      " 3   high       10064 non-null  object \n",
      " 4   low        10064 non-null  object \n",
      " 5   close      10064 non-null  float64\n",
      " 6   change     10064 non-null  float64\n",
      " 7   changePer  10064 non-null  float64\n",
      " 8   Volume     10064 non-null  object \n",
      " 9   TradesNum  10064 non-null  object \n",
      "dtypes: float64(3), object(7)\n",
      "memory usage: 786.4+ KB\n"
     ]
    }
   ],
   "source": [
    "df.info()"
   ]
  },
  {
   "cell_type": "code",
   "execution_count": 28,
   "id": "8ef2782b",
   "metadata": {},
   "outputs": [],
   "source": [
    "#covert coloumn's datatype from object to float with .to_numeric and ignoring errrors using'coerce' \n",
    "df[\"open\"] = pd.to_numeric(df[\"open\"],errors='coerce')\n",
    "df[\"high\"] = pd.to_numeric(df[\"high\"],errors='coerce')\n",
    "df[\"low\"] = pd.to_numeric(df[\"low\"],errors='coerce')\n"
   ]
  },
  {
   "cell_type": "code",
   "execution_count": 33,
   "id": "1c9afc12",
   "metadata": {},
   "outputs": [],
   "source": [
    "df[\"Volume\"] = pd.to_numeric(df[\"Volume\"],errors='coerce')"
   ]
  },
  {
   "cell_type": "code",
   "execution_count": 34,
   "id": "38cc7fb9",
   "metadata": {},
   "outputs": [],
   "source": [
    "#covert coloumn's datatype with .astype() method\n",
    "df.TradesNum=df.TradesNum.astype('float')"
   ]
  },
  {
   "cell_type": "code",
   "execution_count": 36,
   "id": "2c501674",
   "metadata": {},
   "outputs": [
    {
     "data": {
      "text/plain": [
       "StockName     object\n",
       "Date          object\n",
       "open         float64\n",
       "high         float64\n",
       "low          float64\n",
       "close        float64\n",
       "change       float64\n",
       "changePer    float64\n",
       "Volume         int64\n",
       "TradesNum    float64\n",
       "dtype: object"
      ]
     },
     "execution_count": 36,
     "metadata": {},
     "output_type": "execute_result"
    }
   ],
   "source": [
    "df.dtypes"
   ]
  },
  {
   "cell_type": "code",
   "execution_count": 38,
   "id": "3682ba79",
   "metadata": {},
   "outputs": [
    {
     "data": {
      "text/html": [
       "<div>\n",
       "<style scoped>\n",
       "    .dataframe tbody tr th:only-of-type {\n",
       "        vertical-align: middle;\n",
       "    }\n",
       "\n",
       "    .dataframe tbody tr th {\n",
       "        vertical-align: top;\n",
       "    }\n",
       "\n",
       "    .dataframe thead th {\n",
       "        text-align: right;\n",
       "    }\n",
       "</style>\n",
       "<table border=\"1\" class=\"dataframe\">\n",
       "  <thead>\n",
       "    <tr style=\"text-align: right;\">\n",
       "      <th></th>\n",
       "      <th>StockName</th>\n",
       "      <th>Date</th>\n",
       "      <th>open</th>\n",
       "      <th>high</th>\n",
       "      <th>low</th>\n",
       "      <th>close</th>\n",
       "      <th>change</th>\n",
       "      <th>changePer</th>\n",
       "      <th>Volume</th>\n",
       "      <th>TradesNum</th>\n",
       "    </tr>\n",
       "  </thead>\n",
       "  <tbody>\n",
       "    <tr>\n",
       "      <th>9948</th>\n",
       "      <td>Saudi Telecom Co.</td>\n",
       "      <td>17/03/12</td>\n",
       "      <td>40.1</td>\n",
       "      <td>40.20</td>\n",
       "      <td>40.00</td>\n",
       "      <td>40.10</td>\n",
       "      <td>0.10</td>\n",
       "      <td>0.25</td>\n",
       "      <td>747564</td>\n",
       "      <td>482.0</td>\n",
       "    </tr>\n",
       "    <tr>\n",
       "      <th>8926</th>\n",
       "      <td>Saudi Telecom Co.</td>\n",
       "      <td>18/04/16</td>\n",
       "      <td>61.0</td>\n",
       "      <td>61.75</td>\n",
       "      <td>60.50</td>\n",
       "      <td>60.98</td>\n",
       "      <td>-0.27</td>\n",
       "      <td>-0.44</td>\n",
       "      <td>571827</td>\n",
       "      <td>597.0</td>\n",
       "    </tr>\n",
       "    <tr>\n",
       "      <th>4947</th>\n",
       "      <td>SABIC</td>\n",
       "      <td>03/12/11</td>\n",
       "      <td>94.5</td>\n",
       "      <td>94.75</td>\n",
       "      <td>93.75</td>\n",
       "      <td>93.75</td>\n",
       "      <td>1.25</td>\n",
       "      <td>1.35</td>\n",
       "      <td>4675196</td>\n",
       "      <td>4338.0</td>\n",
       "    </tr>\n",
       "    <tr>\n",
       "      <th>6298</th>\n",
       "      <td>Saudi Electricity Co.</td>\n",
       "      <td>06/10/16</td>\n",
       "      <td>16.0</td>\n",
       "      <td>17.45</td>\n",
       "      <td>15.95</td>\n",
       "      <td>17.21</td>\n",
       "      <td>1.34</td>\n",
       "      <td>8.44</td>\n",
       "      <td>2136628</td>\n",
       "      <td>915.0</td>\n",
       "    </tr>\n",
       "    <tr>\n",
       "      <th>4473</th>\n",
       "      <td>SABIC</td>\n",
       "      <td>30/12/13</td>\n",
       "      <td>111.0</td>\n",
       "      <td>111.75</td>\n",
       "      <td>110.75</td>\n",
       "      <td>111.00</td>\n",
       "      <td>0.00</td>\n",
       "      <td>0.00</td>\n",
       "      <td>2647358</td>\n",
       "      <td>3290.0</td>\n",
       "    </tr>\n",
       "  </tbody>\n",
       "</table>\n",
       "</div>"
      ],
      "text/plain": [
       "                  StockName      Date   open    high     low   close  change  \\\n",
       "9948      Saudi Telecom Co.  17/03/12   40.1   40.20   40.00   40.10    0.10   \n",
       "8926      Saudi Telecom Co.  18/04/16   61.0   61.75   60.50   60.98   -0.27   \n",
       "4947                  SABIC  03/12/11   94.5   94.75   93.75   93.75    1.25   \n",
       "6298  Saudi Electricity Co.  06/10/16   16.0   17.45   15.95   17.21    1.34   \n",
       "4473                  SABIC  30/12/13  111.0  111.75  110.75  111.00    0.00   \n",
       "\n",
       "      changePer   Volume  TradesNum  \n",
       "9948       0.25   747564      482.0  \n",
       "8926      -0.44   571827      597.0  \n",
       "4947       1.35  4675196     4338.0  \n",
       "6298       8.44  2136628      915.0  \n",
       "4473       0.00  2647358     3290.0  "
      ]
     },
     "execution_count": 38,
     "metadata": {},
     "output_type": "execute_result"
    }
   ],
   "source": [
    "df.sample(5)"
   ]
  },
  {
   "cell_type": "code",
   "execution_count": 14,
   "id": "17b811cf",
   "metadata": {},
   "outputs": [
    {
     "data": {
      "text/html": [
       "<div>\n",
       "<style scoped>\n",
       "    .dataframe tbody tr th:only-of-type {\n",
       "        vertical-align: middle;\n",
       "    }\n",
       "\n",
       "    .dataframe tbody tr th {\n",
       "        vertical-align: top;\n",
       "    }\n",
       "\n",
       "    .dataframe thead th {\n",
       "        text-align: right;\n",
       "    }\n",
       "</style>\n",
       "<table border=\"1\" class=\"dataframe\">\n",
       "  <thead>\n",
       "    <tr style=\"text-align: right;\">\n",
       "      <th></th>\n",
       "      <th>open</th>\n",
       "      <th>high</th>\n",
       "      <th>low</th>\n",
       "      <th>close</th>\n",
       "      <th>change</th>\n",
       "      <th>changePer</th>\n",
       "      <th>Volume</th>\n",
       "    </tr>\n",
       "  </thead>\n",
       "  <tbody>\n",
       "    <tr>\n",
       "      <th>count</th>\n",
       "      <td>10063.000000</td>\n",
       "      <td>10063.000000</td>\n",
       "      <td>10063.000000</td>\n",
       "      <td>10064.000000</td>\n",
       "      <td>10064.000000</td>\n",
       "      <td>10064.000000</td>\n",
       "      <td>1.006400e+04</td>\n",
       "    </tr>\n",
       "    <tr>\n",
       "      <th>mean</th>\n",
       "      <td>60.932058</td>\n",
       "      <td>61.460010</td>\n",
       "      <td>60.425519</td>\n",
       "      <td>60.937481</td>\n",
       "      <td>0.022704</td>\n",
       "      <td>0.045718</td>\n",
       "      <td>3.244173e+06</td>\n",
       "    </tr>\n",
       "    <tr>\n",
       "      <th>std</th>\n",
       "      <td>35.002238</td>\n",
       "      <td>35.281015</td>\n",
       "      <td>34.728602</td>\n",
       "      <td>34.998722</td>\n",
       "      <td>0.972250</td>\n",
       "      <td>1.453937</td>\n",
       "      <td>2.116102e+07</td>\n",
       "    </tr>\n",
       "    <tr>\n",
       "      <th>min</th>\n",
       "      <td>12.700000</td>\n",
       "      <td>12.800000</td>\n",
       "      <td>12.250000</td>\n",
       "      <td>12.700000</td>\n",
       "      <td>-9.690000</td>\n",
       "      <td>-9.960000</td>\n",
       "      <td>0.000000e+00</td>\n",
       "    </tr>\n",
       "    <tr>\n",
       "      <th>25%</th>\n",
       "      <td>29.210000</td>\n",
       "      <td>29.660000</td>\n",
       "      <td>28.785000</td>\n",
       "      <td>29.475000</td>\n",
       "      <td>-0.270000</td>\n",
       "      <td>-0.550000</td>\n",
       "      <td>9.808860e+05</td>\n",
       "    </tr>\n",
       "    <tr>\n",
       "      <th>50%</th>\n",
       "      <td>58.340000</td>\n",
       "      <td>59.000000</td>\n",
       "      <td>57.750000</td>\n",
       "      <td>58.470000</td>\n",
       "      <td>0.000000</td>\n",
       "      <td>0.000000</td>\n",
       "      <td>2.302060e+06</td>\n",
       "    </tr>\n",
       "    <tr>\n",
       "      <th>75%</th>\n",
       "      <td>91.850000</td>\n",
       "      <td>92.500000</td>\n",
       "      <td>91.250000</td>\n",
       "      <td>91.800000</td>\n",
       "      <td>0.300000</td>\n",
       "      <td>0.640000</td>\n",
       "      <td>4.157385e+06</td>\n",
       "    </tr>\n",
       "    <tr>\n",
       "      <th>max</th>\n",
       "      <td>142.000000</td>\n",
       "      <td>142.800000</td>\n",
       "      <td>141.000000</td>\n",
       "      <td>142.000000</td>\n",
       "      <td>8.550000</td>\n",
       "      <td>9.930000</td>\n",
       "      <td>2.101370e+09</td>\n",
       "    </tr>\n",
       "  </tbody>\n",
       "</table>\n",
       "</div>"
      ],
      "text/plain": [
       "               open          high           low         close        change  \\\n",
       "count  10063.000000  10063.000000  10063.000000  10064.000000  10064.000000   \n",
       "mean      60.932058     61.460010     60.425519     60.937481      0.022704   \n",
       "std       35.002238     35.281015     34.728602     34.998722      0.972250   \n",
       "min       12.700000     12.800000     12.250000     12.700000     -9.690000   \n",
       "25%       29.210000     29.660000     28.785000     29.475000     -0.270000   \n",
       "50%       58.340000     59.000000     57.750000     58.470000      0.000000   \n",
       "75%       91.850000     92.500000     91.250000     91.800000      0.300000   \n",
       "max      142.000000    142.800000    141.000000    142.000000      8.550000   \n",
       "\n",
       "          changePer        Volume  \n",
       "count  10064.000000  1.006400e+04  \n",
       "mean       0.045718  3.244173e+06  \n",
       "std        1.453937  2.116102e+07  \n",
       "min       -9.960000  0.000000e+00  \n",
       "25%       -0.550000  9.808860e+05  \n",
       "50%        0.000000  2.302060e+06  \n",
       "75%        0.640000  4.157385e+06  \n",
       "max        9.930000  2.101370e+09  "
      ]
     },
     "execution_count": 14,
     "metadata": {},
     "output_type": "execute_result"
    }
   ],
   "source": [
    "df.describe()"
   ]
  },
  {
   "cell_type": "code",
   "execution_count": 15,
   "id": "eb18f912",
   "metadata": {},
   "outputs": [
    {
     "data": {
      "text/plain": [
       "StockName    0\n",
       "Date         0\n",
       "open         1\n",
       "high         1\n",
       "low          1\n",
       "close        0\n",
       "change       0\n",
       "changePer    0\n",
       "Volume       0\n",
       "TradesNum    0\n",
       "dtype: int64"
      ]
     },
     "execution_count": 15,
     "metadata": {},
     "output_type": "execute_result"
    }
   ],
   "source": [
    "df.isna().sum()"
   ]
  },
  {
   "cell_type": "code",
   "execution_count": 27,
   "id": "318b2774",
   "metadata": {},
   "outputs": [],
   "source": [
    "#fill missings with mean & meadian value using .fillna and store it with ,inplace=True\n",
    "openPrice=df.open.mean()\n",
    "df.open.fillna(openPrice,inplace=True)\n",
    "highPrice=df.high.mean()\n",
    "df.high.fillna(highPrice,inplace=True)\n",
    "lowPrice=df.low.median()\n",
    "df.low.fillna(lowPrice,inplace=True)"
   ]
  },
  {
   "cell_type": "markdown",
   "id": "64b206ab",
   "metadata": {},
   "source": [
    "# Question 1 \n"
   ]
  },
  {
   "cell_type": "markdown",
   "id": "267fc161",
   "metadata": {},
   "source": [
    "What stocks opining prices behavior over years ? "
   ]
  },
  {
   "cell_type": "code",
   "execution_count": 62,
   "id": "6d4c2f88",
   "metadata": {},
   "outputs": [],
   "source": [
    "# Assign this as index\n",
    "df.set_index(['Date'], inplace=True)"
   ]
  },
  {
   "cell_type": "code",
   "execution_count": 64,
   "id": "6d567c5e",
   "metadata": {},
   "outputs": [
    {
     "data": {
      "text/plain": [
       "Text(0, 0.5, 'opining price')"
      ]
     },
     "execution_count": 64,
     "metadata": {},
     "output_type": "execute_result"
    },
    {
     "data": {
      "image/png": "[encoded data removed]",
      "text/plain": [
       "<Figure size 432x288 with 1 Axes>"
      ]
     },
     "metadata": {
      "needs_background": "light"
     },
     "output_type": "display_data"
    }
   ],
   "source": [
    "# plot the opining price\n",
    "df['open'].plot()\n",
    "plt.title('Daily Time Series for the stock')\n",
    "plt.xlabel('Year')\n",
    "plt.ylabel('opining price')"
   ]
  },
  {
   "cell_type": "markdown",
   "id": "7a9eb04b",
   "metadata": {},
   "source": [
    "## Question 2"
   ]
  },
  {
   "cell_type": "markdown",
   "id": "d8606384",
   "metadata": {},
   "source": [
    "What is the Stock Behavior over opening and closing price?  "
   ]
  },
  {
   "cell_type": "code",
   "execution_count": 100,
   "id": "ba99e678",
   "metadata": {},
   "outputs": [
    {
     "data": {
      "image/png": "[encoded data removed]",
      "text/plain": [
       "<Figure size 1080x504 with 2 Axes>"
      ]
     },
     "metadata": {
      "needs_background": "light"
     },
     "output_type": "display_data"
    }
   ],
   "source": [
    "plt.figure(figsize=[15,7])\n",
    "\n",
    "plt.suptitle('Stocks Behavior',fontsize = 16)\n",
    "\n",
    "plt.subplot(2,1,1) # (number of rows, number of columns, number of plot)\n",
    "plt.plot(df['StockName'],df['open'])\n",
    "plt.title('Bar Chart')\n",
    "\n",
    "plt.subplot(2,1,2)\n",
    "plt.bar(df['StockName'],df['close'])\n",
    "plt.title('Bar Chart');"
   ]
  },
  {
   "cell_type": "markdown",
   "id": "659e3d15",
   "metadata": {},
   "source": [
    "# Question 3"
   ]
  },
  {
   "cell_type": "markdown",
   "id": "bdc41205",
   "metadata": {},
   "source": [
    "Is there a high risk or low risk investing in Saudi market stocks?"
   ]
  },
  {
   "cell_type": "code",
   "execution_count": 125,
   "id": "103306aa",
   "metadata": {},
   "outputs": [
    {
     "data": {
      "image/png": "[encoded data removed]",
      "text/plain": [
       "<Figure size 432x288 with 1 Axes>"
      ]
     },
     "metadata": {
      "needs_background": "light"
     },
     "output_type": "display_data"
    }
   ],
   "source": [
    "plt.plot(df['high'],df['changePer']);\n",
    "plt.scatter(df['high'],df['changePer']);"
   ]
  },
  {
   "cell_type": "markdown",
   "id": "7328fdfa",
   "metadata": {},
   "source": [
    "# Question 4"
   ]
  },
  {
   "cell_type": "markdown",
   "id": "5ce60d4c",
   "metadata": {},
   "source": [
    "What is the most traded stock Company?"
   ]
  },
  {
   "cell_type": "code",
   "execution_count": 111,
   "id": "395d9634",
   "metadata": {},
   "outputs": [
    {
     "data": {
      "image/png": "[encoded data removed]",
      "text/plain": [
       "<Figure size 432x288 with 1 Axes>"
      ]
     },
     "metadata": {},
     "output_type": "display_data"
    }
   ],
   "source": [
    "with plt.xkcd():\n",
    "    plt.plot(df['StockName'],df['TradesNum'])\n",
    "    plt.xlabel('Company Name')"
   ]
  },
  {
   "cell_type": "code",
   "execution_count": null,
   "id": "47399ad5",
   "metadata": {},
   "outputs": [],
   "source": []
  }
 ],
 "metadata": {
  "kernelspec": {
   "display_name": "Python 3",
   "language": "python",
   "name": "python3"
  },
  "language_info": {
   "codemirror_mode": {
    "name": "ipython",
    "version": 3
   },
   "file_extension": ".py",
   "mimetype": "text/x-python",
   "name": "python",
   "nbconvert_exporter": "python",
   "pygments_lexer": "ipython3",
   "version": "3.8.8"
  }
 },
 "nbformat": 4,
 "nbformat_minor": 5
}
